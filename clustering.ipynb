{
 "cells": [
  {
   "cell_type": "markdown",
   "metadata": {},
   "source": [
    "# Latin Difficulty Clustering\n",
    "**(CL/AI Task III)**\n"
   ]
  },
  {
   "cell_type": "code",
   "execution_count": 3,
   "metadata": {},
   "outputs": [],
   "source": [
    "from cltk import NLP\n",
    "import pandas as pd\n",
    "import matplotlib.pyplot as plt\n",
    "from sklearn.decomposition import PCA\n",
    "from sklearn.cluster import KMeans\n"
   ]
  },
  {
   "cell_type": "markdown",
   "metadata": {},
   "source": [
    "# Tag Sentences"
   ]
  },
  {
   "cell_type": "code",
   "execution_count": null,
   "metadata": {},
   "outputs": [],
   "source": [
    "tagged_sentences = []\n",
    "\n",
    "with open('corpus.txt', 'r') as f:\n",
    "\tcorpus = f.read()\n",
    "\n",
    "# corpus = \"Quo usque tandem abutere, Catilina, patientia nostra? quam diu etiam furor iste tuus nos eludet?\"\n",
    "\n",
    "cltk_nlp = NLP(language=\"lat\")\n",
    "cltk_doc = cltk_nlp.analyze(text=corpus)\n",
    "\n",
    "for sentence in cltk_doc.sentences:\n",
    "    sent_pos = \"\"\n",
    "    sent_clean = \"\"\n",
    "    for word in sentence.words:\n",
    "        if(sent_pos == \"\"):\n",
    "            sent_pos += word.pos.name\n",
    "            sent_clean += word.string\n",
    "        else:\n",
    "            sent_pos += \" \" + word.pos.name\n",
    "            sent_clean += \" \" + word.string\n",
    "    sent_obj = {\n",
    "        \"sentence\": sent_clean, \n",
    "        \"pos\":sent_pos\n",
    "    }\n",
    "    tagged_sentences.append(sent_obj)\n",
    "    print(sent_clean)\n",
    "\n",
    "df = pd.DataFrame(tagged_sentences)\n"
   ]
  },
  {
   "cell_type": "markdown",
   "metadata": {},
   "source": [
    "# Clustering"
   ]
  },
  {
   "cell_type": "code",
   "execution_count": null,
   "metadata": {},
   "outputs": [],
   "source": [
    "### Get all the features columns except the class\n",
    "features = list(_data.columns)[:-2]\n",
    "\n",
    "### Get the features data\n",
    "data = _data[features]\n",
    "\n",
    "clustering_kmeans = KMeans(n_clusters=2, precompute_distances=\"auto\", n_jobs=-1)\n",
    "data['clusters'] = clustering_kmeans.fit_predict(data)\n",
    "\n",
    "### Run PCA on the data and reduce the dimensions in pca_num_components dimensions\n",
    "\n",
    "pca_num_components = 2\n",
    "\n",
    "reduced_data = PCA(n_components=pca_num_components).fit_transform(data)\n",
    "results = pd.DataFrame(reduced_data,columns=['pca1','pca2'])\n",
    "\n",
    "sns.scatterplot(x=\"pca1\", y=\"pca2\", hue=data['clusters'], data=results)\n",
    "plt.title('K-means Clustering with 2 dimensions')\n",
    "plt.show()"
   ]
  }
 ],
 "metadata": {
  "interpreter": {
   "hash": "3411cca4a66f422e6671cd22c8ab866af643c92b27743b5f37790d26d067d8c6"
  },
  "kernelspec": {
   "display_name": "Python 3.10.4 ('env_cltk')",
   "language": "python",
   "name": "python3"
  },
  "language_info": {
   "codemirror_mode": {
    "name": "ipython",
    "version": 3
   },
   "file_extension": ".py",
   "mimetype": "text/x-python",
   "name": "python",
   "nbconvert_exporter": "python",
   "pygments_lexer": "ipython3",
   "version": "3.9.12"
  },
  "orig_nbformat": 4
 },
 "nbformat": 4,
 "nbformat_minor": 2
}
